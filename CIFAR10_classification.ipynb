{
  "cells": [
    {
      "cell_type": "markdown",
      "metadata": {
        "id": "view-in-github",
        "colab_type": "text"
      },
      "source": [
        "<a href=\"https://colab.research.google.com/github/ParkSoobin1219/cs231n_assignments/blob/main/CIFAR10_classification.ipynb\" target=\"_parent\"><img src=\"https://colab.research.google.com/assets/colab-badge.svg\" alt=\"Open In Colab\"/></a>"
      ]
    },
    {
      "cell_type": "markdown",
      "metadata": {
        "id": "4r_bSDxnP6WT"
      },
      "source": [
        "# **Common**"
      ]
    },
    {
      "cell_type": "code",
      "execution_count": 1,
      "metadata": {
        "id": "29KnxQCgp7xt"
      },
      "outputs": [],
      "source": [
        "#coding: utf-8\n",
        "import torch\n",
        "import torchvision \n",
        "from torchvision import transforms"
      ]
    },
    {
      "cell_type": "code",
      "execution_count": 2,
      "metadata": {
        "id": "ciinGc1eqGlj"
      },
      "outputs": [],
      "source": [
        "#디바이스 지정\n",
        "device = 'cuda' if torch.cuda.is_available() else 'cpu'"
      ]
    },
    {
      "cell_type": "code",
      "execution_count": 3,
      "metadata": {
        "colab": {
          "base_uri": "https://localhost:8080/"
        },
        "id": "TJKWJJcVqTC6",
        "outputId": "80c973f8-9264-4581-8143-a7cc97bcaba1"
      },
      "outputs": [
        {
          "output_type": "stream",
          "name": "stdout",
          "text": [
            "Files already downloaded and verified\n",
            "Dataset CIFAR10\n",
            "    Number of datapoints: 50000\n",
            "    Root location: ./\n",
            "    Split: Train\n",
            "Dataset CIFAR10\n",
            "    Number of datapoints: 10000\n",
            "    Root location: ./\n",
            "    Split: Test\n"
          ]
        }
      ],
      "source": [
        "#데이터셋 만들기\n",
        "train_dataset = torchvision.datasets.CIFAR10('./', download=True)\n",
        "test_dataset = torchvision.datasets.CIFAR10('./', train=False)\n",
        "print(train_dataset)\n",
        "print(test_dataset)"
      ]
    },
    {
      "cell_type": "code",
      "execution_count": null,
      "metadata": {
        "id": "MVZk9c3Pt2hq"
      },
      "outputs": [],
      "source": [
        "x_train_orig = train_dataset.data\n",
        "y_train_orig = train_dataset.targets\n",
        "x_test_orig = test_dataset.data\n",
        "y_test_orig = test_dataset.targets"
      ]
    },
    {
      "cell_type": "code",
      "execution_count": null,
      "metadata": {
        "colab": {
          "base_uri": "https://localhost:8080/"
        },
        "id": "aurljXkquIdq",
        "outputId": "5c88abd0-c521-42da-be10-e135216e5768"
      },
      "outputs": [
        {
          "output_type": "stream",
          "name": "stdout",
          "text": [
            "x_train shape :  (40000, 32, 32, 3)\n",
            "y_train shape :  40000\n",
            "x_valid shape :  (10000, 32, 32, 3)\n",
            "y_valid shape :  10000\n",
            "x_test shape :  (10000, 32, 32, 3)\n",
            "y_test shape :  10000\n",
            "------------just for checking---------\n",
            "<class 'torch.Tensor'>\n",
            "<class 'torch.Tensor'>\n",
            "<class 'torch.Tensor'>\n",
            "<class 'torch.Tensor'>\n",
            "<class 'torch.Tensor'>\n",
            "----------------------------------------\n",
            "x_train shape :  torch.Size([40000, 32, 32, 3])\n",
            "y_train shape :  torch.Size([40000])\n",
            "x_valid shape :  torch.Size([10000, 32, 32, 3])\n",
            "y_valid shape :  torch.Size([10000])\n",
            "x_test  shape :  torch.Size([10000, 32, 32, 3])\n",
            "y_test  shape :  torch.Size([10000])\n"
          ]
        }
      ],
      "source": [
        "# normalization!!\n",
        "x_train = (x_train_orig[10000:] / 255.)\n",
        "y_train = y_train_orig[10000:]\n",
        "x_valid = (x_train_orig[:10000] / 255.)\n",
        "y_valid = y_train_orig[:10000]\n",
        "\n",
        "x_test = x_test_orig / 255.\n",
        "y_test = y_test_orig\n",
        "\n",
        "\n",
        "print('x_train shape : ', x_train.shape)\n",
        "print('y_train shape : ', len(y_train))\n",
        "print('x_valid shape : ', x_valid.shape)\n",
        "print('y_valid shape : ', len(y_valid))\n",
        "print('x_test shape : ', x_test.shape)\n",
        "print('y_test shape : ', len(y_test))\n",
        "\n",
        "\n",
        "#------------list(y)->torch.tensor, ndarray(x)->torch.tensor 변환------------\n",
        "x_train = torch.tensor(x_train, dtype=torch.float32).to(device=device)\n",
        "y_train = torch.tensor(y_train).to(device=device)\n",
        "x_valid = torch.tensor(x_valid, dtype=torch.float32).to(device=device)\n",
        "y_valid = torch.tensor(y_valid).to(device=device)\n",
        "x_test = torch.tensor(x_test, dtype=torch.float32).to(device=device)\n",
        "y_test = torch.tensor(y_test).to(device=device)\n",
        "\n",
        "print('------------just for checking---------')\n",
        "print(type(x_train))\n",
        "print(type(y_train))\n",
        "print(type(x_valid))\n",
        "print(type(y_valid))\n",
        "print(type(y_test))\n",
        "print('----------------------------------------')\n",
        "\n",
        "#============================================================================\n",
        "\n",
        "print('x_train shape : ', x_train.shape)\n",
        "print('y_train shape : ', y_train.shape)\n",
        "print('x_valid shape : ', x_valid.shape)\n",
        "print('y_valid shape : ', y_valid.shape)\n",
        "print('x_test  shape : ', x_test.shape)\n",
        "print('y_test  shape : ', y_test.shape)"
      ]
    },
    {
      "cell_type": "code",
      "execution_count": null,
      "metadata": {
        "colab": {
          "base_uri": "https://localhost:8080/"
        },
        "id": "8bZzuoOu1sEJ",
        "outputId": "8317bab2-5048-4514-f2c4-5851917f8492"
      },
      "outputs": [
        {
          "output_type": "stream",
          "name": "stdout",
          "text": [
            "<class 'torch.utils.data.dataset.TensorDataset'>\n",
            "<class 'torch.utils.data.dataloader.DataLoader'>\n"
          ]
        }
      ],
      "source": [
        "trainingset = torch.utils.data.TensorDataset(x_train, y_train)\n",
        "train_loader = torch.utils.data.DataLoader(trainingset, batch_size=32, shuffle=True)\n",
        "print(type(trainingset))\n",
        "print(type(train_loader))"
      ]
    },
    {
      "cell_type": "markdown",
      "source": [
        "# **MLP**"
      ],
      "metadata": {
        "id": "nTsMgepwaex5"
      }
    },
    {
      "cell_type": "code",
      "execution_count": null,
      "metadata": {
        "colab": {
          "base_uri": "https://localhost:8080/"
        },
        "id": "v6Q_N7yC5p6j",
        "outputId": "6a4250e9-e661-4a7a-87e3-269ff9924b37"
      },
      "outputs": [
        {
          "output_type": "stream",
          "name": "stdout",
          "text": [
            "MLPNet(\n",
            "  (fc1): Linear(in_features=3072, out_features=1024, bias=True)\n",
            "  (fc2): Linear(in_features=1024, out_features=512, bias=True)\n",
            "  (fc3): Linear(in_features=512, out_features=256, bias=True)\n",
            "  (fc4): Linear(in_features=256, out_features=10, bias=True)\n",
            ")\n"
          ]
        }
      ],
      "source": [
        "# MLP Model\n",
        "\n",
        "class MLPNet(torch.nn.Module):\n",
        "    def __init__(self):\n",
        "        super(MLPNet, self).__init__()\n",
        "        # self.fc1 = torch.nn.Linear(3072, 256)\n",
        "        # self.fc2 = torch.nn.Linear(256, 128)\n",
        "        # self.fc3 = torch.nn.Linear(128, 128)\n",
        "        # self.fc4 = torch.nn.Linear(128, 10)\n",
        "\n",
        "        self.fc1 = torch.nn.Linear(3072, 1024)\n",
        "        self.fc2 = torch.nn.Linear(1024, 512)\n",
        "        self.fc3 = torch.nn.Linear(512, 256)\n",
        "        self.fc4 = torch.nn.Linear(256, 10)\n",
        "\n",
        "\n",
        "    def forward(self, x):\n",
        "        x = x.reshape(-1, 3072)     #.reshape 이나 .view나 똑같은데 각각 먹히는 케이스가 따로 있으니까 걍 디버깅 해준대로 쓰셈\n",
        "        x = torch.nn.functional.relu(self.fc1(x))\n",
        "        x = torch.nn.functional.relu(self.fc2(x))\n",
        "        x = torch.nn.functional.relu(self.fc3(x))\n",
        "        x = self.fc4(x)\n",
        "        return x\n",
        "\n",
        "\n",
        "mlpnet = MLPNet()\n",
        "mlpnet = mlpnet.to(device=device)\n",
        "print(mlpnet)"
      ]
    },
    {
      "cell_type": "code",
      "execution_count": null,
      "metadata": {
        "id": "m1zsVvi16RPr"
      },
      "outputs": [],
      "source": [
        "# Optimization\n",
        "criterion = torch.nn.CrossEntropyLoss() # CrossEntropyLoss function 사용\n",
        "optimizer = torch.optim.Adam(mlpnet.parameters(), lr=0.001) #Adam optimization 사용"
      ]
    },
    {
      "cell_type": "code",
      "execution_count": null,
      "metadata": {
        "colab": {
          "base_uri": "https://localhost:8080/"
        },
        "id": "hjNUbzEj9b36",
        "outputId": "db9b48f7-9e98-4ebe-f6ae-65768263e637"
      },
      "outputs": [
        {
          "output_type": "stream",
          "name": "stdout",
          "text": [
            "42.47835564613342 sec - loss : 1.89895291595459 / acc : 36.459999084472656\n",
            "42.2156023979187 sec - loss : 1.7415872769355774 / acc : 39.72999954223633\n",
            "43.15572738647461 sec - loss : 1.656908612537384 / acc : 42.162498474121094\n",
            "42.97228741645813 sec - loss : 1.5914079795837401 / acc : 44.75749969482422\n",
            "42.83901619911194 sec - loss : 1.547443834877014 / acc : 46.337501525878906\n",
            "42.5416259765625 sec - loss : 1.5035449610233307 / acc : 44.55249786376953\n",
            "42.39805889129639 sec - loss : 1.472073563814163 / acc : 49.23749923706055\n",
            "42.42520809173584 sec - loss : 1.4446670634269714 / acc : 49.29249954223633\n",
            "41.945802211761475 sec - loss : 1.4145916658878326 / acc : 50.47500228881836\n",
            "42.619500398635864 sec - loss : 1.3922191262722015 / acc : 50.650001525878906\n"
          ]
        }
      ],
      "source": [
        "# Train the model\n",
        "import time\n",
        "\n",
        "for epoch in range(10):\n",
        "    start = time.time()\n",
        "    total_loss = 0\n",
        "    \n",
        " \n",
        "    for xb , yb in train_loader:\n",
        "\n",
        "        pred = mlpnet(xb)\n",
        "        loss = criterion(pred, yb)\n",
        " \n",
        "        loss.backward()\n",
        "        optimizer.step()\n",
        "        optimizer.zero_grad()\n",
        " \n",
        "        total_loss += loss.item()    \n",
        "\n",
        "    with torch.no_grad():\n",
        "        pred = mlpnet(x_train)\n",
        "        acc = pred.data.max(1)[1].eq(y_train.data).sum()/len(x_train) * 100\n",
        "        loss = criterion(pred, y_train)\n",
        "    print(f\"{time.time() - start} sec - loss : {total_loss/len(train_loader)} / acc : {acc}\")"
      ]
    },
    {
      "cell_type": "code",
      "execution_count": null,
      "metadata": {
        "colab": {
          "base_uri": "https://localhost:8080/"
        },
        "id": "RFufOVOB-SB6",
        "outputId": "c93cb636-0b17-4eec-bff9-4f0b51b1fbc7"
      },
      "outputs": [
        {
          "output_type": "stream",
          "name": "stdout",
          "text": [
            "acc : 46.52000045776367\n"
          ]
        }
      ],
      "source": [
        "# Test the training model\n",
        "pred = mlpnet(x_test.to(device=device))\n",
        "acc = pred.data.max(1)[1].eq(y_test.data).sum()/len(x_test) *100\n",
        "print(f\"acc : {acc}\")"
      ]
    },
    {
      "cell_type": "markdown",
      "metadata": {
        "id": "7U355GuHIXU6"
      },
      "source": [
        "# **CNN**"
      ]
    },
    {
      "cell_type": "code",
      "execution_count": null,
      "metadata": {
        "id": "rmCq1-dvIZSJ"
      },
      "outputs": [],
      "source": [
        "# CNN model\n",
        "\n",
        "class CNN_Model(torch.nn.Module):\n",
        "    def __init__(self):\n",
        "        super(CNN_Model, self).__init__()\n",
        "        self.conv1 = torch.nn.Conv2d(3, 32, 5, 1, padding=2) #(input channel, output channel, kernel_size, stride, padding)\n",
        "        self.conv2 = torch.nn.Conv2d(32, 16, 3, 1, padding=1) #input size = conv1-output channel\n",
        "        self.fc1 = torch.nn.Linear(1024, 10)\n",
        "    \n",
        "    def forward(self, x):\n",
        "        x = x.reshape(-1, 3, 32, 32) #(no.of batch, channel, height, width)\n",
        "        x = torch.nn.functional.relu(self.conv1(x))\n",
        "        x = torch.nn.functional.max_pool2d(x, 2)\n",
        "        x = torch.nn.functional.relu(self.conv2(x))\n",
        "        x = torch.nn.functional.max_pool2d(x, 2)\n",
        "        x = torch.nn.Flatten()(x)\n",
        "        x = self.fc1(x)\n",
        "        return x\n",
        " \n",
        "cnn = CNN_Model()\n",
        "cnn = cnn.to(device=device)"
      ]
    },
    {
      "cell_type": "markdown",
      "metadata": {
        "id": "KGASzLQbr6Z-"
      },
      "source": [
        "1. x -> [3x32x32]-------기준!!!!!!!!\n",
        "2. self.conv1(x) -> [32x32x32]\n",
        "3. relu(self.conv1(x)) -> [32x32x32]\n",
        "4. max_pool2d(x,2) -> [16x16x32]\n",
        "5. self.conv2(x) -> [16x16x16]\n",
        "6. relu(self.conv2(x)) -> [16x16x16]\n",
        "7. max_pool2d(x, 2) -> [8x8x16]\n",
        "8. Flatten()(x) -> 1024\n"
      ]
    },
    {
      "cell_type": "code",
      "execution_count": null,
      "metadata": {
        "id": "A_5YdwddI3sa"
      },
      "outputs": [],
      "source": [
        "# Optimization\n",
        "criterion = torch.nn.CrossEntropyLoss()\n",
        "optimizer = torch.optim.Adam(cnn.parameters(), lr=0.001)"
      ]
    },
    {
      "cell_type": "code",
      "execution_count": null,
      "metadata": {
        "id": "hJC5LZO2I6aR"
      },
      "outputs": [],
      "source": [
        "# Train the model\n",
        "import time\n",
        "\n",
        "for epoch in range(3):\n",
        "    start = time.time()\n",
        "    total_loss = 0\n",
        " \n",
        "    for xb, yb in train_loader:\n",
        "        \n",
        "        \n",
        "        pred = cnn(xb)\n",
        "        loss = criterion(pred, yb)\n",
        " \n",
        "        loss.backward()\n",
        "        optimizer.step()\n",
        "        optimizer.zero_grad()\n",
        " \n",
        "        total_loss += loss.item()\n",
        "    \n",
        "    with torch.no_grad():\n",
        "        pred = cnn(x_train)\n",
        "        acc = pred.data.max(1)[1].eq(y_train.data).sum()/len(x_train) * 100\n",
        "        loss = criterion(pred, y_train)\n",
        "    print(f\"{time.time() - start} sec - loss : {loss} / acc : {acc}\")"
      ]
    },
    {
      "cell_type": "code",
      "execution_count": null,
      "metadata": {
        "id": "gCSw1Uw8Lc8h"
      },
      "outputs": [],
      "source": [
        "# Test the CNN model\n",
        "\n",
        "pred = cnn(x_test.to(device=device))\n",
        "acc = pred.data.max(1)[1].eq(y_test.to(device=device).data).sum()/len(x_test) * 100\n",
        "loss = criterion(pred, y_test.to(device=device))\n",
        "print(f\"loss : {loss} / acc : {acc}\")"
      ]
    }
  ],
  "metadata": {
    "colab": {
      "provenance": [],
      "authorship_tag": "ABX9TyN+4MTAFx+8pd7u7U+1KYiN",
      "include_colab_link": true
    },
    "kernelspec": {
      "display_name": "Python 3",
      "name": "python3"
    },
    "language_info": {
      "name": "python"
    }
  },
  "nbformat": 4,
  "nbformat_minor": 0
}